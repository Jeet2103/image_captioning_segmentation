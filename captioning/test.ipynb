{
 "cells": [
  {
   "cell_type": "code",
   "execution_count": 4,
   "id": "6f178e4f",
   "metadata": {},
   "outputs": [
    {
     "name": "stdout",
     "output_type": "stream",
     "text": [
      "1000268201_693b08cb0e.jpg shape: (2048,)\n"
     ]
    }
   ],
   "source": [
    "CAPTIONS_FILE = r\"dataset\\Flickr8k.token.txt\"\n",
    "IMAGE_LIST_FILE = r\"dataset\\Flickr_8k.trainImages.txt\"\n",
    "encoded_pkl_file = r\"D:\\Coding file\\Zidio_development\\image_captioning_segmentation\\dataset\\Pickle\\encoded_train_images.pkl\"\n",
    "import pickle\n",
    "import numpy as np\n",
    "with open(encoded_pkl_file, 'rb') as f:\n",
    "    encoded_np = pickle.load(f)\n",
    "\n",
    "# Debug: Check shape of a random image\n",
    "for k, v in encoded_np.items():\n",
    "    print(f\"{k} shape: {np.array(v).shape}\")\n",
    "    break\n"
   ]
  },
  {
   "cell_type": "code",
   "execution_count": null,
   "id": "a5f139e8",
   "metadata": {},
   "outputs": [],
   "source": []
  }
 ],
 "metadata": {
  "kernelspec": {
   "display_name": "PY3_10",
   "language": "python",
   "name": "python3"
  },
  "language_info": {
   "codemirror_mode": {
    "name": "ipython",
    "version": 3
   },
   "file_extension": ".py",
   "mimetype": "text/x-python",
   "name": "python",
   "nbconvert_exporter": "python",
   "pygments_lexer": "ipython3",
   "version": "3.10.14"
  }
 },
 "nbformat": 4,
 "nbformat_minor": 5
}
